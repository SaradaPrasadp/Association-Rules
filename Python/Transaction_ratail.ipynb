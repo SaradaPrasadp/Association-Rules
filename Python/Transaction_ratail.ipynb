{
 "cells": [
  {
   "cell_type": "code",
   "execution_count": 1,
   "metadata": {},
   "outputs": [],
   "source": [
    "import pandas as pd\n",
    "from mlxtend.frequent_patterns import apriori, association_rules\n",
    "import matplotlib.pyplot as plt"
   ]
  },
  {
   "cell_type": "code",
   "execution_count": 3,
   "metadata": {},
   "outputs": [],
   "source": [
    "transactions = []\n",
    "with open(\"transactions_retail1.csv\") as f:\n",
    "     transactions = f.read().split(\"\\n\")   #it will split the data into different lines in reading format.\n",
    "    "
   ]
  },
  {
   "cell_type": "code",
   "execution_count": 4,
   "metadata": {},
   "outputs": [],
   "source": [
    "transaction_list = []\n",
    "for i in transactions:\n",
    "   transaction_list.append(i.split(\",\"))\n",
    "\n",
    "all_transaction_list = [i for item in transaction_list for i in item]\n",
    "                "
   ]
  },
  {
   "cell_type": "code",
   "execution_count": 8,
   "metadata": {},
   "outputs": [],
   "source": [
    "from collections import Counter # ,OrderedDict\n",
    "\n",
    "item_frequencies = Counter(all_transaction_list)\n"
   ]
  },
  {
   "cell_type": "code",
   "execution_count": 9,
   "metadata": {},
   "outputs": [],
   "source": [
    "item_frequencies = sorted(item_frequencies.items(), key = lambda x:x[1])\n",
    "\n",
    "# Storing frequencies and items in separate variables \n",
    "frequencies = list(reversed([i[1] for i in item_frequencies]))\n",
    "items = list(reversed([i[0] for i in item_frequencies]))\n"
   ]
  },
  {
   "cell_type": "code",
   "execution_count": null,
   "metadata": {},
   "outputs": [],
   "source": [
    "# Creating Data Frame for the transactions data\n",
    "transaction_series = pd.DataFrame(pd.Series(transaction_list))\n",
    "transaction_series = transaction_series.iloc[:557039, :] # removing the last empty transaction\n",
    "\n",
    "transaction_series.columns = [\"items\"]\n",
    "\n",
    "# creating a dummy columns for the each item in each transactions ... Using column names as item name\n",
    "X = transaction_series['items'].str.join(sep = '*').str.get_dummies(sep = '*')\n",
    "\n",
    "X"
   ]
  },
  {
   "cell_type": "code",
   "execution_count": null,
   "metadata": {},
   "outputs": [],
   "source": [
    "\n",
    "frequent_itemsets = apriori(X, min_support = 0.0075, max_len = 4, use_colnames = True)\n",
    "\n",
    "# Most Frequent item sets based on support \n",
    "frequent_itemsets.sort_values('support', ascending = False, inplace = True)"
   ]
  },
  {
   "cell_type": "code",
   "execution_count": null,
   "metadata": {},
   "outputs": [],
   "source": [
    "plt.bar(x = list(range(0, 11)), height = frequent_itemsets.support[0:11], color ='rgmyk');plt.xticks(list(range(0, 11)), frequent_itemsets.itemsets[0:11], rotation=20)"
   ]
  },
  {
   "cell_type": "code",
   "execution_count": null,
   "metadata": {},
   "outputs": [],
   "source": [
    "rules = association_rules(frequent_itemsets, metric = \"lift\", min_threshold = 1)\n",
    "rules.head(20)\n",
    "rules.sort_values('lift', ascending = False).head(10)\n"
   ]
  },
  {
   "cell_type": "code",
   "execution_count": null,
   "metadata": {},
   "outputs": [],
   "source": [
    "def to_list(i):\n",
    "    return (sorted(list(i)))\n",
    "\n",
    "ma_X = rules.antecedents.apply(to_list) + rules.consequents.apply(to_list)\n",
    "\n",
    "ma_X = ma_X.apply(sorted)\n",
    "\n",
    "rules_sets = list(ma_X)\n",
    "\n",
    "unique_rules_sets = [list(m) for m in set(tuple(i) for i in rules_sets)]\n"
   ]
  },
  {
   "cell_type": "code",
   "execution_count": null,
   "metadata": {},
   "outputs": [],
   "source": [
    "index_rules = []\n",
    "\n",
    "for i in unique_rules_sets:\n",
    "    index_rules.append(rules_sets.index(i))\n",
    "\n",
    "# getting rules without any redudancy \n",
    "rules_no_redudancy = rules.iloc[index_rules, :]\n",
    "\n",
    "# Sorting them with respect to list and getting top 10 rules \n",
    "rules_no_redudancy.sort_values('lift', ascending = False).head(10)\n"
   ]
  }
 ],
 "metadata": {
  "kernelspec": {
   "display_name": "Python 3",
   "language": "python",
   "name": "python3"
  },
  "language_info": {
   "codemirror_mode": {
    "name": "ipython",
    "version": 3
   },
   "file_extension": ".py",
   "mimetype": "text/x-python",
   "name": "python",
   "nbconvert_exporter": "python",
   "pygments_lexer": "ipython3",
   "version": "3.8.5"
  }
 },
 "nbformat": 4,
 "nbformat_minor": 4
}
